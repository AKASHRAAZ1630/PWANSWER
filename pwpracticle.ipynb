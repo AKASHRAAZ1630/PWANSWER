{
  "nbformat": 4,
  "nbformat_minor": 0,
  "metadata": {
    "colab": {
      "provenance": []
    },
    "kernelspec": {
      "name": "python3",
      "display_name": "Python 3"
    },
    "language_info": {
      "name": "python"
    }
  },
  "cells": [
    {
      "cell_type": "markdown",
      "source": [
        "14. Describe a scenario where a while loop is more suitable than a for loop?"
      ],
      "metadata": {
        "id": "HEJmwzSDQPqX"
      }
    },
    {
      "cell_type": "markdown",
      "source": [
        "Ans- A while loop is more suitable when the number of iterations is not known in advance and depends on a condition being met during execution.\n",
        "\n",
        "Suppose you are writing a program that asks the user to enter a password until they get it correct. Here, you don’t know how many attempts the user will need, so a while loop is the best choice.\n",
        "\n",
        "A for loop is not ideal here, because you don’t know how many times the user will need to try.\n",
        "\n",
        "The loop continues until the condition is satisfied (user enters the right password)."
      ],
      "metadata": {
        "id": "iTJpX0BcQdwl"
      }
    },
    {
      "cell_type": "code",
      "source": [
        "correct_password = \"python123\"\n",
        "user_input = \"\"\n",
        "\n",
        "while user_input != correct_password:\n",
        "    user_input = input(\"Enter your password: \")\n",
        "\n",
        "print(\"Login successful!\")"
      ],
      "metadata": {
        "id": "ZZju1HKLI2Br"
      },
      "execution_count": null,
      "outputs": []
    },
    {
      "cell_type": "markdown",
      "source": [
        "1. Write a Python program to print \"Hello, World\" .\n"
      ],
      "metadata": {
        "id": "p5H_OAWHSrpg"
      }
    },
    {
      "cell_type": "code",
      "source": [
        " print(\"Hello, World!\")\n",
        "\n",
        "\n",
        "\n"
      ],
      "metadata": {
        "colab": {
          "base_uri": "https://localhost:8080/"
        },
        "id": "vO8y1Hi1QwDB",
        "outputId": "75be1f7d-d727-46e7-860a-6c29c1eda4fc"
      },
      "execution_count": 2,
      "outputs": [
        {
          "output_type": "stream",
          "name": "stdout",
          "text": [
            "Hello, World!\n"
          ]
        }
      ]
    },
    {
      "cell_type": "markdown",
      "source": [
        "2. Write a Python program that displays your name and age."
      ],
      "metadata": {
        "id": "U554vyGFSk6R"
      }
    },
    {
      "cell_type": "code",
      "source": [
        "name = \"Akash Raaz\"   # you can replace with your own name\n",
        "age = 25            # replace with your age\n",
        "\n",
        "print(\"My name is\", name)\n",
        "print(\"I am\", age, \"years old\")\n"
      ],
      "metadata": {
        "colab": {
          "base_uri": "https://localhost:8080/"
        },
        "id": "OhfauZx5RVQ2",
        "outputId": "3cdb774a-d275-4885-eb4d-63a604e9870f"
      },
      "execution_count": 1,
      "outputs": [
        {
          "output_type": "stream",
          "name": "stdout",
          "text": [
            "My name is Akash Raaz\n",
            "I am 25 years old\n"
          ]
        }
      ]
    },
    {
      "cell_type": "markdown",
      "source": [
        "3.  Write code to print all the pre-defined keywords in Python using the keyword library."
      ],
      "metadata": {
        "id": "sTKVoZIxSYkO"
      }
    },
    {
      "cell_type": "code",
      "source": [
        "import keyword\n",
        "\n",
        "# Print all keywords\n",
        "print(\"Python Keywords\")\n",
        "print(keyword.kwlist)"
      ],
      "metadata": {
        "colab": {
          "base_uri": "https://localhost:8080/"
        },
        "id": "c4KQP3m1RfOH",
        "outputId": "873d865a-6b7a-477f-ac80-23e9e62a183f"
      },
      "execution_count": 3,
      "outputs": [
        {
          "output_type": "stream",
          "name": "stdout",
          "text": [
            "Python Keywords\n",
            "['False', 'None', 'True', 'and', 'as', 'assert', 'async', 'await', 'break', 'class', 'continue', 'def', 'del', 'elif', 'else', 'except', 'finally', 'for', 'from', 'global', 'if', 'import', 'in', 'is', 'lambda', 'nonlocal', 'not', 'or', 'pass', 'raise', 'return', 'try', 'while', 'with', 'yield']\n"
          ]
        }
      ]
    },
    {
      "cell_type": "markdown",
      "source": [
        "4. Write a program that checks if a given word is a Python keyword.\n"
      ],
      "metadata": {
        "id": "gCiwce6oSRQa"
      }
    },
    {
      "cell_type": "code",
      "source": [
        "import keyword\n",
        "\n",
        "# Take input from the user\n",
        "word = input(\"Enter a word: \")\n",
        "\n",
        "# Check if it's a keyword\n",
        "if keyword.iskeyword(word):\n",
        "    print(f\"'{word}' is a Python keyword.\")\n",
        "else:\n",
        "    print(f\"'{word}' is NOT a Python keyword.\")"
      ],
      "metadata": {
        "colab": {
          "base_uri": "https://localhost:8080/"
        },
        "id": "EUwxrLABR4dn",
        "outputId": "db67b799-3fbb-4459-a846-c7dcc199a6c5"
      },
      "execution_count": 4,
      "outputs": [
        {
          "output_type": "stream",
          "name": "stdout",
          "text": [
            "Enter a word: AKASH RAAZ\n",
            "'AKASH RAAZ' is NOT a Python keyword.\n"
          ]
        }
      ]
    },
    {
      "cell_type": "markdown",
      "source": [
        "5. Create a list and tuple in Python, and demonstrate how attempting to change an element works differently\n",
        "for each."
      ],
      "metadata": {
        "id": "3gyTH25ZS3Ox"
      }
    },
    {
      "cell_type": "code",
      "source": [
        "# Creating a list (mutable)\n",
        "my_list = [10, 20, 30]\n",
        "print(\"Original List:\", my_list)\n",
        "\n",
        "# Changing an element in the list\n",
        "my_list[1] = 200\n",
        "print(\"Modified List:\", my_list)\n",
        "\n",
        "\n",
        "# Creating a tuple (immutable)\n",
        "my_tuple = (10, 20, 30)\n",
        "print(\"Original Tuple:\", my_tuple)\n",
        "\n",
        "# Trying to change an element in the tuple\n",
        "try:\n",
        "    my_tuple[1] = 200\n",
        "except TypeError as e:\n",
        "    print(\"Error:\", e)"
      ],
      "metadata": {
        "colab": {
          "base_uri": "https://localhost:8080/"
        },
        "id": "fseLKcHgSJsG",
        "outputId": "ae47f4c1-9b45-4852-e489-84ee0735ec74"
      },
      "execution_count": 6,
      "outputs": [
        {
          "output_type": "stream",
          "name": "stdout",
          "text": [
            "Original List: [10, 20, 30]\n",
            "Modified List: [10, 200, 30]\n",
            "Original Tuple: (10, 20, 30)\n",
            "Error: 'tuple' object does not support item assignment\n"
          ]
        }
      ]
    },
    {
      "cell_type": "markdown",
      "source": [
        "6. Write a function to demonstrate the behavior of mutable and immutable arguments."
      ],
      "metadata": {
        "id": "5C1rWqrCTPZa"
      }
    },
    {
      "cell_type": "code",
      "source": [
        "# Function to modify arguments\n",
        "def modify_values(num, items):\n",
        "    print(\"Inside function before change:\")\n",
        "    print(\"num =\", num, \"| items =\", items)\n",
        "\n",
        "    # Try modifying both\n",
        "    num += 10            # modifies a copy (immutable)\n",
        "    items.append(100)    # modifies the original list (mutable)\n",
        "\n",
        "    print(\"Inside function after change:\")\n",
        "    print(\"num =\", num, \"| items =\", items)\n",
        "\n",
        "\n",
        "# Main program\n",
        "x = 5           # immutable (int)\n",
        "my_list = [1, 2, 3]   # mutable (list)\n",
        "\n",
        "print(\"Before function call:\")\n",
        "print(\"x =\", x, \"| my_list =\", my_list)\n",
        "\n",
        "modify_values(x, my_list)\n",
        "\n",
        "print(\"After function call:\")\n",
        "print(\"x =\", x, \"| my_list =\", my_list)"
      ],
      "metadata": {
        "colab": {
          "base_uri": "https://localhost:8080/"
        },
        "id": "LDHg0CayTEcb",
        "outputId": "d9c01978-ae0d-43df-8103-fb6fabe5734d"
      },
      "execution_count": 7,
      "outputs": [
        {
          "output_type": "stream",
          "name": "stdout",
          "text": [
            "Before function call:\n",
            "x = 5 | my_list = [1, 2, 3]\n",
            "Inside function before change:\n",
            "num = 5 | items = [1, 2, 3]\n",
            "Inside function after change:\n",
            "num = 15 | items = [1, 2, 3, 100]\n",
            "After function call:\n",
            "x = 5 | my_list = [1, 2, 3, 100]\n"
          ]
        }
      ]
    },
    {
      "cell_type": "markdown",
      "source": [
        "7.  Write a program that performs basic arithmetic operations on two user-input numbers."
      ],
      "metadata": {
        "id": "_sbFtiXtTl53"
      }
    },
    {
      "cell_type": "code",
      "source": [
        "# Taking user input (converted to float to allow decimals)\n",
        "num1 = float(input(\"Enter first number: \"))\n",
        "num2 = float(input(\"Enter second number: \"))\n",
        "\n",
        "# Performing operations\n",
        "print(\"Results:\")\n",
        "print(\"Addition:\", num1 + num2)\n",
        "print(\"Subtraction:\", num1 - num2)\n",
        "print(\"Multiplication:\", num1 * num2)\n",
        "\n",
        "# Handle division carefully (avoid divide by zero error)\n",
        "if num2 != 0:\n",
        "    print(\"Division:\", num1 / num2)\n",
        "else:\n",
        "    print(\"Division: Cannot divide by zero!\")"
      ],
      "metadata": {
        "colab": {
          "base_uri": "https://localhost:8080/"
        },
        "id": "8N9a7BX-Tjah",
        "outputId": "43f68848-2f69-4426-882e-606cffefec88"
      },
      "execution_count": 8,
      "outputs": [
        {
          "output_type": "stream",
          "name": "stdout",
          "text": [
            "Enter first number: 1630\n",
            "Enter second number: 0708\n",
            "Results:\n",
            "Addition: 2338.0\n",
            "Subtraction: 922.0\n",
            "Multiplication: 1154040.0\n",
            "Division: 2.3022598870056497\n"
          ]
        }
      ]
    },
    {
      "cell_type": "markdown",
      "source": [
        "8. Write a program to demonstrate the use of logical operators."
      ],
      "metadata": {
        "id": "zaW4Zlr9UDUT"
      }
    },
    {
      "cell_type": "code",
      "source": [
        "# Program to demonstrate logical operators\n",
        "a = True\n",
        "b = False\n",
        "\n",
        "print(\"a =\", a, \" | b =\", b)\n",
        "\n",
        "# AND operator\n",
        "print(\"a AND b =\", a and b)   # True if both are True\n",
        "\n",
        "# OR operator\n",
        "print(\"a OR b  =\", a or b)     # True if at least one is True\n",
        "\n",
        "# NOT operator\n",
        "print(\"NOT a   =\", not a)      # Reverses the value of a\n",
        "print(\"NOT b   =\", not b)      # Reverses the value of b\n"
      ],
      "metadata": {
        "colab": {
          "base_uri": "https://localhost:8080/"
        },
        "id": "DrsBQpnZT25K",
        "outputId": "6b95a21d-a785-4502-d377-31f9bfdb7fb0"
      },
      "execution_count": 9,
      "outputs": [
        {
          "output_type": "stream",
          "name": "stdout",
          "text": [
            "a = True  | b = False\n",
            "a AND b = False\n",
            "a OR b  = True\n",
            "NOT a   = False\n",
            "NOT b   = True\n"
          ]
        }
      ]
    },
    {
      "cell_type": "markdown",
      "source": [
        "9. Write a Python program to convert user input from string to integer, float, and boolean types.\n"
      ],
      "metadata": {
        "id": "8QO2_L3XUZuO"
      }
    },
    {
      "cell_type": "code",
      "source": [
        "# Program to convert user input into different data types\n",
        "\n",
        "# Take input from the user (always string)\n",
        "user_input = input(\"Enter a value: \")\n",
        "\n",
        "print(\"Original (string):\", user_input, \"| Type:\", type(user_input))\n",
        "\n",
        "# Convert to integer\n",
        "try:\n",
        "    int_value = int(user_input)\n",
        "    print(\"As Integer:\", int_value, \"| Type:\", type(int_value))\n",
        "except ValueError:\n",
        "    print(\"Cannot convert to Integer\")\n",
        "\n",
        "# Convert to float\n",
        "try:\n",
        "    float_value = float(user_input)\n",
        "    print(\"As Float:\", float_value, \"| Type:\", type(float_value))\n",
        "except ValueError:\n",
        "    print(\"Cannot convert to Float\")\n",
        "\n",
        "# Convert to boolean\n",
        "bool_value = bool(user_input)   # Non-empty string → True, empty string → False\n",
        "print(\"As Boolean:\", bool_value, \"| Type:\", type(bool_value))"
      ],
      "metadata": {
        "colab": {
          "base_uri": "https://localhost:8080/"
        },
        "id": "248kGHtqUWSS",
        "outputId": "759e2208-0556-4c6c-c345-582a83133be2"
      },
      "execution_count": 10,
      "outputs": [
        {
          "output_type": "stream",
          "name": "stdout",
          "text": [
            "Enter a value: 1630\n",
            "Original (string): 1630 | Type: <class 'str'>\n",
            "As Integer: 1630 | Type: <class 'int'>\n",
            "As Float: 1630.0 | Type: <class 'float'>\n",
            "As Boolean: True | Type: <class 'bool'>\n"
          ]
        }
      ]
    },
    {
      "cell_type": "markdown",
      "source": [
        "10. Write code to demonstrate type casting with list elements."
      ],
      "metadata": {
        "id": "NvcCxfIkU-Yb"
      }
    },
    {
      "cell_type": "code",
      "source": [
        "# Program to demonstrate type casting with list elements\n",
        "\n",
        "# A list of string numbers\n",
        "string_list = [\"10\", \"20\", \"30\", \"40\"]\n",
        "\n",
        "print(\"Original List (strings):\", string_list)\n",
        "\n",
        "# Convert all elements to integers\n",
        "int_list = [int(x) for x in string_list]\n",
        "print(\"As Integers:\", int_list)\n",
        "\n",
        "# Convert all elements to floats\n",
        "float_list = [float(x) for x in string_list]\n",
        "print(\"As Floats:\", float_list)\n",
        "\n",
        "# Convert all elements to booleans\n",
        "bool_list = [bool(x) for x in string_list]\n",
        "print(\"As Booleans:\", bool_list)\n",
        "\n",
        "# Convert integers back to strings\n",
        "back_to_string = [str(x) for x in int_list]\n",
        "print(\"Back to Strings:\", back_to_string)"
      ],
      "metadata": {
        "colab": {
          "base_uri": "https://localhost:8080/"
        },
        "id": "ykM5E1u1Uvl8",
        "outputId": "a49e68fd-3d19-4343-b9e3-e3d74e2e9ca7"
      },
      "execution_count": 11,
      "outputs": [
        {
          "output_type": "stream",
          "name": "stdout",
          "text": [
            "Original List (strings): ['10', '20', '30', '40']\n",
            "As Integers: [10, 20, 30, 40]\n",
            "As Floats: [10.0, 20.0, 30.0, 40.0]\n",
            "As Booleans: [True, True, True, True]\n",
            "Back to Strings: ['10', '20', '30', '40']\n"
          ]
        }
      ]
    },
    {
      "cell_type": "markdown",
      "source": [
        "11. Write a program that checks if a number is positive, negative, or zero."
      ],
      "metadata": {
        "id": "Z0df03NOVTdu"
      }
    },
    {
      "cell_type": "code",
      "source": [
        "# Program to check if a number is positive, negative, or zero\n",
        "\n",
        "# Take user input\n",
        "num = float(input(\"Enter a number: \"))\n",
        "\n",
        "# Check conditions\n",
        "if num > 0:\n",
        "    print(\"The number is Positive.\")\n",
        "elif num < 0:\n",
        "    print(\"The number is Negative.\")\n",
        "else:\n",
        "    print(\"The number is Zero.\")\n"
      ],
      "metadata": {
        "colab": {
          "base_uri": "https://localhost:8080/"
        },
        "id": "bcies5EPVPe0",
        "outputId": "a9dd4ae3-3e8c-4ac7-e16d-b10783e52c59"
      },
      "execution_count": 12,
      "outputs": [
        {
          "output_type": "stream",
          "name": "stdout",
          "text": [
            "Enter a number: 30\n",
            "The number is Positive.\n"
          ]
        }
      ]
    },
    {
      "cell_type": "markdown",
      "source": [
        "12. Write a for loop to print numbers from 1 to 10."
      ],
      "metadata": {
        "id": "7Mn8-oUnVo9J"
      }
    },
    {
      "cell_type": "code",
      "source": [
        "# Program to print numbers from 1 to 10 using for loop\n",
        "\n",
        "for i in range(1, 11):\n",
        "    print(i)\n"
      ],
      "metadata": {
        "colab": {
          "base_uri": "https://localhost:8080/"
        },
        "id": "EC6n6XUAVey9",
        "outputId": "76c3385a-a133-4e91-e922-2b2edd5a2969"
      },
      "execution_count": 13,
      "outputs": [
        {
          "output_type": "stream",
          "name": "stdout",
          "text": [
            "1\n",
            "2\n",
            "3\n",
            "4\n",
            "5\n",
            "6\n",
            "7\n",
            "8\n",
            "9\n",
            "10\n"
          ]
        }
      ]
    },
    {
      "cell_type": "markdown",
      "source": [
        "13. . Write a Python program to find the sum of all even numbers between 1 and 50."
      ],
      "metadata": {
        "id": "MZrTTIpvV1eR"
      }
    },
    {
      "cell_type": "code",
      "source": [
        "# Program to find the sum of even numbers between 1 and 50\n",
        "\n",
        "total = 0\n",
        "\n",
        "for i in range(1, 51):\n",
        "    if i % 2 == 0:   # check if number is even\n",
        "        total += i\n",
        "\n",
        "print(\"The sum of even numbers between 1 and 50 is:\", total)"
      ],
      "metadata": {
        "colab": {
          "base_uri": "https://localhost:8080/"
        },
        "id": "d_LFzw5SVyzK",
        "outputId": "95fd30b5-9168-4276-f706-013c52b47366"
      },
      "execution_count": 14,
      "outputs": [
        {
          "output_type": "stream",
          "name": "stdout",
          "text": [
            "The sum of even numbers between 1 and 50 is: 650\n"
          ]
        }
      ]
    },
    {
      "cell_type": "markdown",
      "source": [
        "14. Write a program to reverse a string using a while loop."
      ],
      "metadata": {
        "id": "vJ6tGv12WRZn"
      }
    },
    {
      "cell_type": "code",
      "source": [
        "# Program to reverse a string using a while loop\n",
        "\n",
        "# Take user input\n",
        "text = input(\"Enter a string: \")\n",
        "\n",
        "# Initialize variables\n",
        "reversed_text = \"\"\n",
        "i = len(text) - 1   # start from last index\n",
        "\n",
        "while i >= 0:\n",
        "    reversed_text += text[i]  # add character from the end\n",
        "    i -= 1  # move backward\n",
        "\n",
        "print(\"Reversed string:\", reversed_text)"
      ],
      "metadata": {
        "colab": {
          "base_uri": "https://localhost:8080/"
        },
        "id": "t8mzIfLpV_xq",
        "outputId": "b61e7cc5-21f8-432f-88d4-c1f5fa8c9974"
      },
      "execution_count": 15,
      "outputs": [
        {
          "output_type": "stream",
          "name": "stdout",
          "text": [
            "Enter a string: AKASH\n",
            "Reversed string: HSAKA\n"
          ]
        }
      ]
    },
    {
      "cell_type": "markdown",
      "source": [
        "15. Write a Python program to calculate the factorial of a number provided by the user using a while loop."
      ],
      "metadata": {
        "id": "7x-7gEbBWe4p"
      }
    },
    {
      "cell_type": "code",
      "source": [
        "# Program to calculate factorial using a while loop\n",
        "\n",
        "# Take user input\n",
        "num = int(input(\"Enter a number: \"))\n",
        "\n",
        "factorial = 1\n",
        "i = 1\n",
        "\n",
        "# Calculate factorial\n",
        "while i <= num:\n",
        "    factorial *= i\n",
        "    i += 1\n",
        "\n",
        "print(f\"The factorial of {num} is {factorial}\")"
      ],
      "metadata": {
        "colab": {
          "base_uri": "https://localhost:8080/"
        },
        "id": "YHsi4VrMWYu6",
        "outputId": "98e93365-b28e-4518-f289-ce3ebdcc8410"
      },
      "execution_count": 16,
      "outputs": [
        {
          "output_type": "stream",
          "name": "stdout",
          "text": [
            "Enter a number: 30\n",
            "The factorial of 30 is 265252859812191058636308480000000\n"
          ]
        }
      ]
    },
    {
      "cell_type": "code",
      "source": [],
      "metadata": {
        "id": "OO8JmCEnWov2"
      },
      "execution_count": 16,
      "outputs": []
    }
  ]
}